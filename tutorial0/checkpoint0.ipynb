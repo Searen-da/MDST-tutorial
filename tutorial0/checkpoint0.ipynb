{
 "cells": [
  {
   "cell_type": "markdown",
   "id": "115840b4",
   "metadata": {
    "colab_type": "text",
    "id": "0a8IYAJUshu1"
   },
   "source": [
    "# Checkpoint 0 "
   ]
  },
  {
   "cell_type": "markdown",
   "id": "c589d43c",
   "metadata": {},
   "source": [
    "These exercises are a mix of Python and Pandas practice. Most should be no more than a few lines of code! "
   ]
  },
  {
   "cell_type": "code",
   "execution_count": 1,
   "id": "aeda157e",
   "metadata": {
    "colab": {},
    "colab_type": "code",
    "id": "Jo6wuTgkshu1"
   },
   "outputs": [],
   "source": [
    "# here is a Python list:\n",
    "\n",
    "a = [1, 2, 3, 4, 5, 6]\n"
   ]
  },
  {
   "cell_type": "code",
   "execution_count": 2,
   "id": "779d96b1",
   "metadata": {},
   "outputs": [
    {
     "name": "stdout",
     "output_type": "stream",
     "text": [
      "[4, 5, 6]\n"
     ]
    }
   ],
   "source": [
    "# get a list containing the last 3 elements of a\n",
    "# Yes, you can just type out [4, 5, 6] but we really want to see you demonstrate you know how to use list slicing in Python\n",
    "b= a[-3:]\n",
    "\n",
    "print(b)"
   ]
  },
  {
   "cell_type": "code",
   "execution_count": 3,
   "id": "b6a54def",
   "metadata": {},
   "outputs": [],
   "source": [
    "# create a list of numbers from 1 to 20\n",
    "twenty = [i for i in range(1, 21)]"
   ]
  },
  {
   "cell_type": "code",
   "execution_count": 4,
   "id": "487873ac",
   "metadata": {},
   "outputs": [],
   "source": [
    "# now get a list with only the even numbers between 1 and 100\n",
    "# you may or may not make use of the list you made in the last cell\n",
    "even = [i for i in range(2, 101, 2)]"
   ]
  },
  {
   "cell_type": "code",
   "execution_count": 5,
   "id": "3d4bb5dd",
   "metadata": {},
   "outputs": [],
   "source": [
    "# write a function that takes two numbers as arguments\n",
    "# and returns the first number divided by the second\n",
    "def divide(int1, int2):\n",
    "    return int1/int2;"
   ]
  },
  {
   "cell_type": "code",
   "execution_count": 6,
   "id": "b93669fa",
   "metadata": {},
   "outputs": [],
   "source": [
    "# write a function that takes a string as input\n",
    "# and return that string in all caps\n",
    "def caps(str):\n",
    "    return str.upper()"
   ]
  },
  {
   "cell_type": "code",
   "execution_count": 7,
   "id": "f55df04e",
   "metadata": {},
   "outputs": [
    {
     "name": "stdout",
     "output_type": "stream",
     "text": [
      "1\n",
      "2\n",
      "fizz\n",
      "4\n",
      "buzz\n",
      "fizz\n",
      "7\n",
      "8\n",
      "fizz\n",
      "buzz\n",
      "11\n",
      "fizz\n",
      "13\n",
      "14\n",
      "fizzbuzz\n",
      "16\n",
      "17\n",
      "fizz\n",
      "19\n",
      "buzz\n",
      "fizz\n",
      "22\n",
      "23\n",
      "fizz\n",
      "buzz\n",
      "26\n",
      "fizz\n",
      "28\n",
      "29\n"
     ]
    }
   ],
   "source": [
    "# fizzbuzz\n",
    "# you will need to use both iteration and control flow \n",
    "# go through all numbers from 1 to 30 in order\n",
    "# if the number is a multiple of 3, print fizz\n",
    "# if the number is a multiple of 5, print buzz\n",
    "# if the number is a multiple of 3 and 5, print fizzbuzz and NOTHING ELSE\n",
    "# if the number is neither a multiple of 3 nor a multiple of 5, print the number\n",
    "for i in range(1,30):\n",
    "    if i % 3 == 0 and i % 5 == 0:\n",
    "        print(\"fizzbuzz\")\n",
    "    elif i % 3 == 0:\n",
    "        print(\"fizz\")\n",
    "    elif i % 5 == 0:\n",
    "        print(\"buzz\")\n",
    "    else:\n",
    "        print(i)"
   ]
  },
  {
   "cell_type": "code",
   "execution_count": 8,
   "id": "78aace0b",
   "metadata": {},
   "outputs": [],
   "source": [
    "# create a dictionary that reflects the following menu pricing (taken from Ahmo's)\n",
    "# Gyro: $9 \n",
    "# Burger: $9\n",
    "# Greek Salad: $8\n",
    "# Philly Steak: $10\n",
    "\n",
    "dict = {\n",
    "    \"Gyro\": 9,\n",
    "    \"Burger\": 9,\n",
    "    \"Greek Salad\": 8,\n",
    "    \"Philly Steak\": 10\n",
    "}"
   ]
  },
  {
   "cell_type": "code",
   "execution_count": 9,
   "id": "96803a03",
   "metadata": {
    "colab": {},
    "colab_type": "code",
    "id": "WzCQ5HOJshvA"
   },
   "outputs": [],
   "source": [
    "# load in the \"starbucks.csv\" dataset\n",
    "# refer to how we read the cereal.csv dataset in the tutorial\n",
    "\n",
    "import pandas as pd\n",
    "df = pd.read_csv(\"../data/cereal.csv\")"
   ]
  },
  {
   "cell_type": "code",
   "execution_count": 10,
   "id": "68210b5f",
   "metadata": {},
   "outputs": [
    {
     "name": "stdout",
     "output_type": "stream",
     "text": [
      "    calories  sugars  protein\n",
      "0         70       6        4\n",
      "40       110       3        2\n"
     ]
    }
   ],
   "source": [
    "# output the calories, sugars, and protein columns only of every 40th row. \n",
    "\n",
    "output = df.iloc[::40][['calories', 'sugars', 'protein']]\n",
    "print(output)"
   ]
  },
  {
   "cell_type": "code",
   "execution_count": 11,
   "id": "ac0f0c12",
   "metadata": {},
   "outputs": [
    {
     "name": "stdout",
     "output_type": "stream",
     "text": [
      "Empty DataFrame\n",
      "Columns: [name, mfr, type, calories, protein, fat, sodium, fiber, carbo, sugars, potass, vitamins, shelf, weight, cups, rating]\n",
      "Index: []\n"
     ]
    }
   ],
   "source": [
    "# select all rows with more than and including 400 calories\n",
    "\n",
    "more400 = df[df[\"calories\"] >= 400]\n",
    "print(more400)"
   ]
  },
  {
   "cell_type": "code",
   "execution_count": 12,
   "id": "ee8f8241",
   "metadata": {},
   "outputs": [
    {
     "name": "stdout",
     "output_type": "stream",
     "text": [
      "                           name mfr type  calories  protein  fat  sodium   \n",
      "4                Almond Delight   R    C       110        2    2     200  \\\n",
      "17                    Corn Pops   K    C       110        1    0      90   \n",
      "20       Cream of Wheat (Quick)   N    H       100        3    0      80   \n",
      "38  Just Right Crunchy  Nuggets   K    C       110        2    1     170   \n",
      "39       Just Right Fruit & Nut   K    C       140        3    1     170   \n",
      "53                   Product 19   K    C       100        3    0     320   \n",
      "69            Total Corn Flakes   G    C       110        2    1     200   \n",
      "\n",
      "    fiber  carbo  sugars  potass  vitamins  shelf  weight  cups     rating  \n",
      "4     1.0   14.0       8      -1        25      3     1.0  0.75  34.384843  \n",
      "17    1.0   13.0      12      20        25      2     1.0  1.00  35.782791  \n",
      "20    1.0   21.0       0      -1         0      2     1.0  1.00  64.533816  \n",
      "38    1.0   17.0       6      60       100      3     1.0  1.00  36.523683  \n",
      "39    2.0   20.0       9      95       100      3     1.3  0.75  36.471512  \n",
      "53    1.0   20.0       3      45       100      3     1.0  1.00  41.503540  \n",
      "69    0.0   21.0       3      35       100      3     1.0  1.00  38.839746  \n"
     ]
    }
   ],
   "source": [
    "# select all rows whose vitamin c content is higher than the iron content\n",
    "vc = df[df[\"vitamins\"] > df[\"potass\"]]\n",
    "print(vc)"
   ]
  },
  {
   "cell_type": "code",
   "execution_count": 13,
   "id": "d4de48bb",
   "metadata": {},
   "outputs": [],
   "source": [
    "# create a new column containing the caffeine per calories of each drink\n",
    "df = pd.read_csv(\"../data/starbucks.csv\")\n",
    "df['caffeine_per_calorie'] = df['caffeine'] / df['calories']"
   ]
  },
  {
   "cell_type": "code",
   "execution_count": 14,
   "id": "9bd36d48",
   "metadata": {
    "colab": {},
    "colab_type": "code",
    "id": "rIoxaSxHshvB"
   },
   "outputs": [],
   "source": [
    "# what is the average calorie across all items?\n",
    "avgCal = df['calories'].mean()"
   ]
  },
  {
   "cell_type": "code",
   "execution_count": 16,
   "id": "3679e062",
   "metadata": {
    "colab": {},
    "colab_type": "code",
    "id": "ABX7i49FshvD"
   },
   "outputs": [],
   "source": [
    "# how many different categories of beverages are there?\n",
    "Numcat = df['beverage_category'].nunique()"
   ]
  },
  {
   "cell_type": "code",
   "execution_count": 25,
   "id": "7d702d8c",
   "metadata": {
    "colab": {},
    "colab_type": "code",
    "id": "P9QatZAzshvE"
   },
   "outputs": [],
   "source": [
    "# what is the average # calories for each beverage category?\n",
    "avgCalCat= df.groupby('type')['calories'].mean()"
   ]
  },
  {
   "cell_type": "code",
   "execution_count": null,
   "id": "b475a57b",
   "metadata": {},
   "outputs": [],
   "source": []
  }
 ],
 "metadata": {
  "kernelspec": {
   "display_name": "Python 3 (ipykernel)",
   "language": "python",
   "name": "python3"
  },
  "language_info": {
   "codemirror_mode": {
    "name": "ipython",
    "version": 3
   },
   "file_extension": ".py",
   "mimetype": "text/x-python",
   "name": "python",
   "nbconvert_exporter": "python",
   "pygments_lexer": "ipython3",
   "version": "3.10.12"
  },
  "vscode": {
   "interpreter": {
    "hash": "6cf8df3ff69f85f626faf55c10df6fe2cb9d1236b4dc73844ee4dc01369c2c99"
   }
  }
 },
 "nbformat": 4,
 "nbformat_minor": 5
}
