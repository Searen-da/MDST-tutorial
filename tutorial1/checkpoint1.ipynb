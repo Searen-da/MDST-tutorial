{
 "cells": [
  {
   "cell_type": "markdown",
   "metadata": {},
   "source": [
    "# Checkpoint 1"
   ]
  },
  {
   "cell_type": "markdown",
   "metadata": {},
   "source": [
    "Reminder: \n",
    "\n",
    "- You are being evaluated for compeletion and effort in this checkpoint. \n",
    "- Avoid manual labor / hard coding as much as possible, everything we've taught you so far are meant to simplify and automate your process."
   ]
  },
  {
   "cell_type": "markdown",
   "metadata": {},
   "source": [
    "We will be working with the same `states_edu.csv` that you should already be familiar with from the tutorial.\n",
    "\n",
    "We investigated Grade 8 reading score in the tutorial. For this checkpoint, you are asked to investigate another test. Here's an overview:\n",
    "\n",
    "* Choose a specific response variable to focus on\n",
    ">Grade 4 Math, Grade 4 Reading, Grade 8 Math\n",
    "* Pick or create features to use\n",
    ">Will all the features be useful in predicting test score? Are some more important than others? Should you standardize, bin, or scale the data?\n",
    "* Explore the data as it relates to that test\n",
    ">Create at least 2 visualizations (graphs), each with a caption describing the graph and what it tells us about the data\n",
    "* Create training and testing data\n",
    ">Do you want to train on all the data? Only data from the last 10 years? Only Michigan data?\n",
    "* Train a ML model to predict outcome \n",
    ">Define what you want to predict, and pick a model in sklearn to use (see sklearn <a href=\"https://scikit-learn.org/stable/modules/linear_model.html\">regressors</a>.\n",
    "* Summarize your findings\n",
    ">Write a 1 paragraph summary of what you did and make a recommendation about if and how student performance can be predicted\n",
    "\n",
    "Include comments throughout your code! Every cleanup and preprocessing task should be documented.\n",
    "\n",
    "Of course, if you're finding this assignment interesting (and we really hope you do!), you are welcome to do more than the requirements! For example, you may want to see if expenditure affects 4th graders more than 8th graders. Maybe you want to look into the extended version of this dataset and see how factors like sex and race are involved. You can include all your work in this notebook when you turn it in -- just always make sure you explain what you did and interpret your results. Good luck!"
   ]
  },
  {
   "cell_type": "markdown",
   "metadata": {},
   "source": [
    "<h2> Data Cleanup </h2>\n",
    "\n",
    "Import `numpy`, `pandas`, and `matplotlib`.\n",
    "\n",
    "(Feel free to import other libraries!)"
   ]
  },
  {
   "cell_type": "code",
   "execution_count": 2,
   "metadata": {},
   "outputs": [],
   "source": [
    "import numpy as np\n",
    "import pandas as pd\n",
    "import matplotlib.pyplot as plt"
   ]
  },
  {
   "cell_type": "markdown",
   "metadata": {},
   "source": [
    "Load in the \"states_edu.csv\" dataset and take a look at the head of the data"
   ]
  },
  {
   "cell_type": "code",
   "execution_count": 3,
   "metadata": {},
   "outputs": [],
   "source": [
    "edu = pd.read_csv('../data/states_edu.csv')"
   ]
  },
  {
   "cell_type": "markdown",
   "metadata": {},
   "source": [
    "You should always familiarize yourself with what each column in the dataframe represents. Read about the states_edu dataset here: https://www.kaggle.com/noriuk/us-education-datasets-unification-project"
   ]
  },
  {
   "cell_type": "markdown",
   "metadata": {},
   "source": [
    "Use this space to rename columns, deal with missing data, etc. _(optional)_"
   ]
  },
  {
   "cell_type": "code",
   "execution_count": null,
   "metadata": {},
   "outputs": [],
   "source": []
  },
  {
   "cell_type": "markdown",
   "metadata": {},
   "source": [
    "<h2>Exploratory Data Analysis (EDA) </h2>"
   ]
  },
  {
   "cell_type": "markdown",
   "metadata": {},
   "source": [
    "Chosen one of Grade 4 Reading, Grade 4 Math, or Grade 8 Math to focus on: Grade 4 Math"
   ]
  },
  {
   "cell_type": "markdown",
   "metadata": {},
   "source": [
    "How many years of data are logged in our dataset? "
   ]
  },
  {
   "cell_type": "code",
   "execution_count": 4,
   "metadata": {},
   "outputs": [
    {
     "name": "stdout",
     "output_type": "stream",
     "text": [
      "50\n"
     ]
    }
   ],
   "source": [
    "year = edu['AVG_MATH_4_SCORE'].nunique()\n",
    "print(year)"
   ]
  },
  {
   "cell_type": "markdown",
   "metadata": {},
   "source": [
    "Let's compare Michigan to Ohio. Which state has the higher average across all years in the test you chose?"
   ]
  },
  {
   "cell_type": "code",
   "execution_count": 5,
   "metadata": {},
   "outputs": [
    {
     "name": "stdout",
     "output_type": "stream",
     "text": [
      "234.36363636363637   239.45454545454547\n"
     ]
    }
   ],
   "source": [
    "M= edu[edu['STATE'] == 'MICHIGAN']\n",
    "avgM = M['AVG_MATH_4_SCORE'].mean()\n",
    "O= edu[edu['STATE'] == 'OHIO']\n",
    "avgO = O['AVG_MATH_4_SCORE'].mean()\n",
    "print(avgM, \" \", avgO)"
   ]
  },
  {
   "cell_type": "markdown",
   "metadata": {},
   "source": [
    "Find the average for your chosen test across all states in 2019"
   ]
  },
  {
   "cell_type": "code",
   "execution_count": 6,
   "metadata": {},
   "outputs": [
    {
     "name": "stdout",
     "output_type": "stream",
     "text": [
      "239.9433962264151\n"
     ]
    }
   ],
   "source": [
    "score2019=edu[edu['YEAR']== 2019]\n",
    "avg2019=score2019['AVG_MATH_4_SCORE'].mean()\n",
    "print(avg2019)"
   ]
  },
  {
   "cell_type": "markdown",
   "metadata": {},
   "source": [
    "For each state, find a maximum value for your chosen test score\n",
    "\n",
    "Refer to the `Grouping and Aggregating` section in Tutorial 0 if you are stuck."
   ]
  },
  {
   "cell_type": "code",
   "execution_count": 7,
   "metadata": {},
   "outputs": [
    {
     "name": "stdout",
     "output_type": "stream",
     "text": [
      "STATE\n",
      "ALABAMA                 233.0\n",
      "ALASKA                  237.0\n",
      "ARIZONA                 240.0\n",
      "ARKANSAS                240.0\n",
      "CALIFORNIA              235.0\n",
      "COLORADO                247.0\n",
      "CONNECTICUT             245.0\n",
      "DELAWARE                243.0\n",
      "DISTRICT_OF_COLUMBIA    235.0\n",
      "DODEA                   250.0\n",
      "FLORIDA                 246.0\n",
      "GEORGIA                 240.0\n",
      "HAWAII                  243.0\n",
      "IDAHO                   242.0\n",
      "ILLINOIS                239.0\n",
      "INDIANA                 249.0\n",
      "IOWA                    246.0\n",
      "KANSAS                  248.0\n",
      "KENTUCKY                242.0\n",
      "LOUISIANA               234.0\n",
      "MAINE                   246.0\n",
      "MARYLAND                247.0\n",
      "MASSACHUSETTS           253.0\n",
      "MICHIGAN                238.0\n",
      "MINNESOTA               253.0\n",
      "MISSISSIPPI             241.0\n",
      "MISSOURI                241.0\n",
      "MONTANA                 244.0\n",
      "NATIONAL                242.0\n",
      "NEBRASKA                246.0\n",
      "NEVADA                  237.0\n",
      "NEW_HAMPSHIRE           253.0\n",
      "NEW_JERSEY              249.0\n",
      "NEW_MEXICO              233.0\n",
      "NEW_YORK                243.0\n",
      "NORTH_CAROLINA          245.0\n",
      "NORTH_DAKOTA            246.0\n",
      "OHIO                    246.0\n",
      "OKLAHOMA                240.0\n",
      "OREGON                  240.0\n",
      "PENNSYLVANIA            246.0\n",
      "RHODE_ISLAND            242.0\n",
      "SOUTH_CAROLINA          238.0\n",
      "SOUTH_DAKOTA            242.0\n",
      "TENNESSEE               241.0\n",
      "TEXAS                   244.0\n",
      "UTAH                    244.0\n",
      "VERMONT                 248.0\n",
      "VIRGINIA                248.0\n",
      "WASHINGTON              246.0\n",
      "WEST_VIRGINIA           237.0\n",
      "WISCONSIN               245.0\n",
      "WYOMING                 248.0\n",
      "Name: AVG_MATH_4_SCORE, dtype: float64\n"
     ]
    }
   ],
   "source": [
    "max_state = edu.groupby('STATE')['AVG_MATH_4_SCORE'].max()\n",
    "print(max_state)"
   ]
  },
  {
   "cell_type": "markdown",
   "metadata": {},
   "source": [
    "<h2> Feature Engineering </h2>\n",
    "\n",
    "After exploring the data, you can choose to modify features that you would use to predict the performance of the students on your chosen response variable. \n",
    "\n",
    "You can also create your own features. For example, perhaps you figured that maybe a state's expenditure per student may affect their overall academic performance so you create a expenditure_per_student feature.\n",
    "\n",
    "Use this space to modify or create features."
   ]
  },
  {
   "cell_type": "code",
   "execution_count": 8,
   "metadata": {},
   "outputs": [
    {
     "name": "stdout",
     "output_type": "stream",
     "text": [
      "0       0.990635\n",
      "1       0.926540\n",
      "2       1.044045\n",
      "3       1.018145\n",
      "4       1.033466\n",
      "          ...   \n",
      "1710         NaN\n",
      "1711         NaN\n",
      "1712         NaN\n",
      "1713         NaN\n",
      "1714         NaN\n",
      "Name: expenditure_over_Revenue, Length: 1715, dtype: float64\n"
     ]
    }
   ],
   "source": [
    "edu['expenditure_over_Revenue'] = edu['TOTAL_EXPENDITURE']/edu['TOTAL_REVENUE']\n",
    "print(edu['expenditure_over_Revenue'])"
   ]
  },
  {
   "cell_type": "markdown",
   "metadata": {},
   "source": [
    "Feature engineering justification: **<BRIEFLY DESCRIBE WHY YOU MADE THE CHANGES THAT YOU DID\\>**"
   ]
  },
  {
   "cell_type": "markdown",
   "metadata": {},
   "source": [
    "<h2>Visualization</h2>\n",
    "\n",
    "Investigate the relationship between your chosen response variable and at least two predictors using visualizations. Write down your observations.\n",
    "\n",
    "**Visualization 1**"
   ]
  },
  {
   "cell_type": "code",
   "execution_count": 9,
   "metadata": {},
   "outputs": [
    {
     "data": {
      "image/png": "[encoded data removed]",
      "text/plain": [
       "<Figure size 640x480 with 1 Axes>"
      ]
     },
     "metadata": {},
     "output_type": "display_data"
    }
   ],
   "source": [
    "Mdata=edu[edu['STATE']==\"MICHIGAN\"]\n",
    "plt.scatter(Mdata['YEAR'], Mdata['TOTAL_REVENUE'])\n",
    "\n",
    "plt.xlabel('YEAR')\n",
    "plt.ylabel('TOTAL_REVENUE')\n",
    "plt.title('TOTAL_REVENUE vs.YEAR')\n",
    "\n",
    "plt.show()\n"
   ]
  },
  {
   "cell_type": "markdown",
   "metadata": {},
   "source": [
    "**<CAPTION FOR VIZ 1>**"
   ]
  },
  {
   "cell_type": "markdown",
   "metadata": {},
   "source": [
    "**Visualization 2**"
   ]
  },
  {
   "cell_type": "code",
   "execution_count": 10,
   "metadata": {},
   "outputs": [
    {
     "data": {
      "image/png": "[encoded data removed]",
      "text/plain": [
       "<Figure size 640x480 with 1 Axes>"
      ]
     },
     "metadata": {},
     "output_type": "display_data"
    }
   ],
   "source": [
    "Mdata=edu[edu['STATE']==\"MICHIGAN\"]\n",
    "plt.scatter(Mdata['YEAR'], Mdata['TOTAL_EXPENDITURE'])\n",
    "\n",
    "plt.xlabel('YEAR')\n",
    "plt.ylabel('TOTAL_REVENUE')\n",
    "plt.title('TOTAL_REVENUE vs.YEAR')\n",
    "\n",
    "plt.show()"
   ]
  },
  {
   "cell_type": "markdown",
   "metadata": {},
   "source": [
    "**<CAPTION FOR VIZ 2>**"
   ]
  },
  {
   "cell_type": "markdown",
   "metadata": {},
   "source": [
    "<h2> Data Creation </h2>\n",
    "\n",
    "_Use this space to create train/test data_"
   ]
  },
  {
   "cell_type": "code",
   "execution_count": 11,
   "metadata": {},
   "outputs": [],
   "source": [
    "from sklearn.model_selection import train_test_split"
   ]
  },
  {
   "cell_type": "code",
   "execution_count": 35,
   "metadata": {
    "scrolled": true
   },
   "outputs": [
    {
     "name": "stdout",
     "output_type": "stream",
     "text": [
      "30\n"
     ]
    }
   ],
   "source": [
    "import numpy as np\n",
    "import pandas as pd\n",
    "import matplotlib.pyplot as plt\n",
    "\n",
    "edu = pd.read_csv('../data/states_edu.csv')\n",
    "Mdata=edu[edu['STATE']==\"MICHIGAN\"][:30]\n",
    "X = Mdata['YEAR']\n",
    "y = Mdata['TOTAL_EXPENDITURE']\n",
    "print(X.size)"
   ]
  },
  {
   "cell_type": "code",
   "execution_count": 37,
   "metadata": {},
   "outputs": [
    {
     "name": "stdout",
     "output_type": "stream",
     "text": [
      "(24,)\n",
      "(24,)\n",
      "(6,)\n",
      "(6,)\n"
     ]
    }
   ],
   "source": [
    "X_train, X_test, y_train, y_test = train_test_split(\n",
    "     X, y, test_size=0.2, random_state=42)\n",
    "print(X_train.shape)\n",
    "print(y_train.shape)\n",
    "print(X_test.shape)\n",
    "print(y_test.shape)"
   ]
  },
  {
   "cell_type": "markdown",
   "metadata": {},
   "source": [
    "<h2> Prediction </h2>"
   ]
  },
  {
   "cell_type": "markdown",
   "metadata": {},
   "source": [
    "ML Models [Resource](https://medium.com/@vijaya.beeravalli/comparison-of-machine-learning-classification-models-for-credit-card-default-data-c3cf805c9a5a)"
   ]
  },
  {
   "cell_type": "code",
   "execution_count": 43,
   "metadata": {},
   "outputs": [],
   "source": [
    "# import your sklearn class here\n",
    "# !pip install tensorflow\n",
    "from tensorflow.keras.models import Sequential\n",
    "from tensorflow.keras.layers import *"
   ]
  },
  {
   "cell_type": "code",
   "execution_count": 64,
   "metadata": {},
   "outputs": [
    {
     "name": "stdout",
     "output_type": "stream",
     "text": [
      "(20, 1)\n",
      "(6,)\n",
      "Epoch 1/40\n",
      "4/4 [==============================] - 2s 6ms/step - loss: 4011165.5000\n",
      "Epoch 2/40\n",
      "4/4 [==============================] - 0s 7ms/step - loss: 4010527.0000\n",
      "Epoch 3/40\n",
      "4/4 [==============================] - 0s 8ms/step - loss: 4010080.5000\n",
      "Epoch 4/40\n",
      "4/4 [==============================] - 0s 7ms/step - loss: 4009737.2500\n",
      "Epoch 5/40\n",
      "4/4 [==============================] - 0s 7ms/step - loss: 4009151.2500\n",
      "Epoch 6/40\n",
      "4/4 [==============================] - 0s 9ms/step - loss: 4008799.5000\n",
      "Epoch 7/40\n",
      "4/4 [==============================] - 0s 7ms/step - loss: 4007969.0000\n",
      "Epoch 8/40\n",
      "4/4 [==============================] - 0s 7ms/step - loss: 4007351.0000\n",
      "Epoch 9/40\n",
      "4/4 [==============================] - 0s 6ms/step - loss: 4007056.5000\n",
      "Epoch 10/40\n",
      "4/4 [==============================] - 0s 6ms/step - loss: 4006763.0000\n",
      "Epoch 11/40\n",
      "4/4 [==============================] - 0s 6ms/step - loss: 4006468.7500\n",
      "Epoch 12/40\n",
      "4/4 [==============================] - 0s 7ms/step - loss: 4006175.0000\n",
      "Epoch 13/40\n",
      "4/4 [==============================] - 0s 6ms/step - loss: 4005880.5000\n",
      "Epoch 14/40\n",
      "4/4 [==============================] - 0s 6ms/step - loss: 4005587.0000\n",
      "Epoch 15/40\n",
      "4/4 [==============================] - 0s 6ms/step - loss: 4005294.2500\n",
      "Epoch 16/40\n",
      "4/4 [==============================] - 0s 6ms/step - loss: 4005001.0000\n",
      "Epoch 17/40\n",
      "4/4 [==============================] - 0s 6ms/step - loss: 4004709.0000\n",
      "Epoch 18/40\n",
      "4/4 [==============================] - 0s 6ms/step - loss: 4004417.5000\n",
      "Epoch 19/40\n",
      "4/4 [==============================] - 0s 6ms/step - loss: 4004125.7500\n",
      "Epoch 20/40\n",
      "4/4 [==============================] - 0s 6ms/step - loss: 4003834.7500\n",
      "Epoch 21/40\n",
      "4/4 [==============================] - 0s 6ms/step - loss: 4003544.2500\n",
      "Epoch 22/40\n",
      "4/4 [==============================] - 0s 6ms/step - loss: 4003253.5000\n",
      "Epoch 23/40\n",
      "4/4 [==============================] - 0s 6ms/step - loss: 4002963.5000\n",
      "Epoch 24/40\n",
      "4/4 [==============================] - 0s 6ms/step - loss: 4002646.2500\n",
      "Epoch 25/40\n",
      "4/4 [==============================] - 0s 6ms/step - loss: 4002326.5000\n",
      "Epoch 26/40\n",
      "4/4 [==============================] - 0s 6ms/step - loss: 4002005.7500\n",
      "Epoch 27/40\n",
      "4/4 [==============================] - 0s 5ms/step - loss: 4001683.7500\n",
      "Epoch 28/40\n",
      "4/4 [==============================] - 0s 6ms/step - loss: 4001360.5000\n",
      "Epoch 29/40\n",
      "4/4 [==============================] - 0s 7ms/step - loss: 4001039.0000\n",
      "Epoch 30/40\n",
      "4/4 [==============================] - 0s 6ms/step - loss: 4000718.2500\n",
      "Epoch 31/40\n",
      "4/4 [==============================] - 0s 5ms/step - loss: 4000398.5000\n",
      "Epoch 32/40\n",
      "4/4 [==============================] - 0s 5ms/step - loss: 4000080.0000\n",
      "Epoch 33/40\n",
      "4/4 [==============================] - 0s 6ms/step - loss: 3999762.5000\n",
      "Epoch 34/40\n",
      "4/4 [==============================] - 0s 6ms/step - loss: 3999446.2500\n",
      "Epoch 35/40\n",
      "4/4 [==============================] - 0s 6ms/step - loss: 3999130.2500\n",
      "Epoch 36/40\n",
      "4/4 [==============================] - 0s 6ms/step - loss: 3998815.5000\n",
      "Epoch 37/40\n",
      "4/4 [==============================] - 0s 6ms/step - loss: 3998501.2500\n",
      "Epoch 38/40\n",
      "4/4 [==============================] - 0s 5ms/step - loss: 3998188.0000\n",
      "Epoch 39/40\n",
      "4/4 [==============================] - 0s 5ms/step - loss: 3997875.5000\n",
      "Epoch 40/40\n",
      "4/4 [==============================] - 0s 6ms/step - loss: 3997563.2500\n"
     ]
    },
    {
     "data": {
      "text/plain": [
       "<keras.src.callbacks.History at 0x7f1ecde18640>"
      ]
     },
     "execution_count": 64,
     "metadata": {},
     "output_type": "execute_result"
    }
   ],
   "source": [
    "X_train_array = X_train.to_numpy()\n",
    "X_test_array = X_test.to_numpy()\n",
    "\n",
    "\n",
    "# Combine X_train and y_train to ensure alignment\n",
    "train_data = pd.concat([X_train, y_train], axis=1)\n",
    "\n",
    "# Drop rows where y_train is NaN\n",
    "train_data = train_data.dropna(subset=[y_train.name])\n",
    "\n",
    "# Separate X_train and y_train again\n",
    "X_train = train_data.drop(columns=[y_train.name])\n",
    "y_train = train_data[y_train.name]\n",
    "# print(X_train.isnull().values.any())\n",
    "# print(y_train.isnull().values.any())\n",
    "print(X_train.shape)\n",
    "print(X_test.shape)\n",
    "\n",
    "\n",
    "# time_steps = 1\n",
    "# n_features = 1\n",
    "\n",
    "# X_train_reshaped = X_train_array.reshape((-1, time_steps, n_features))\n",
    "# X_test_reshaped = X_test_array.reshape((-1, time_steps, n_features))\n",
    "# print(X_train_reshaped.shape)\n",
    "# print(X_test_reshaped.shape)\n",
    "\n",
    "# model = Sequential()\n",
    "# model.add(LSTM(units=50, return_sequences=False, input_shape=(time_steps, 1)))\n",
    "# model.add(Dense(1))\n",
    "\n",
    "# model.compile(optimizer='adam', loss='mean_squared_error')\n",
    "# model.fit(X_train_reshaped, y_train, epochs=20, batch_size=4)\n",
    "\n",
    "time_steps = 5\n",
    "n_features = 1  # Assuming each feature is a single value\n",
    "\n",
    "def create_sequences(data, time_steps):\n",
    "    Xs, ys = [], []\n",
    "    for i in range(len(data) - time_steps):\n",
    "        Xs.append(data[i:(i + time_steps)])\n",
    "        ys.append(data[i + time_steps])\n",
    "    return np.array(Xs), np.array(ys)\n",
    "\n",
    "# Reshape the data into sequences\n",
    "X_train_seq, y_train_seq = create_sequences(X_train_array, time_steps)\n",
    "X_test_seq, y_test_seq = create_sequences(X_test_array, time_steps)\n",
    "model = Sequential()\n",
    "model.add(LSTM(units=50, return_sequences=False, input_shape=(time_steps, n_features)))\n",
    "model.add(Dense(1))\n",
    "model.compile(optimizer='adam', loss='mean_squared_error')\n",
    "model.fit(X_train_seq, y_train_seq, epochs=40, batch_size=4)\n"
   ]
  },
  {
   "cell_type": "code",
   "execution_count": 65,
   "metadata": {},
   "outputs": [],
   "source": [
    "\n",
    "# Fit the model to the training data\n",
    "\n",
    "\n"
   ]
  },
  {
   "cell_type": "code",
   "execution_count": 67,
   "metadata": {},
   "outputs": [
    {
     "name": "stdout",
     "output_type": "stream",
     "text": [
      "1/1 [==============================] - 0s 24ms/step\n",
      "[[4.139123]]\n"
     ]
    }
   ],
   "source": [
    "\n",
    "# Make predictions\n",
    "y_pred = model.predict(X_test_seq)\n",
    "\n",
    "print(y_pred)\n"
   ]
  },
  {
   "cell_type": "markdown",
   "metadata": {},
   "source": [
    "## Evaluation"
   ]
  },
  {
   "cell_type": "markdown",
   "metadata": {},
   "source": [
    "Choose some metrics to evaluate the performance of your model, some of them are mentioned in the tutorial."
   ]
  },
  {
   "cell_type": "code",
   "execution_count": 68,
   "metadata": {},
   "outputs": [
    {
     "name": "stdout",
     "output_type": "stream",
     "text": [
      "1/1 [==============================] - 0s 28ms/step - loss: 3987453.2500\n"
     ]
    },
    {
     "data": {
      "text/plain": [
       "3987453.25"
      ]
     },
     "execution_count": 68,
     "metadata": {},
     "output_type": "execute_result"
    }
   ],
   "source": [
    "model.evaluate(X_test_seq, y_test_seq)"
   ]
  },
  {
   "cell_type": "markdown",
   "metadata": {},
   "source": [
    "We have copied over the graphs that visualize the model's performance on the training and testing set. \n",
    "\n",
    "Change `col_name` and modify the call to `plt.ylabel()` to isolate how a single predictor affects the model."
   ]
  },
  {
   "cell_type": "code",
   "execution_count": null,
   "metadata": {},
   "outputs": [],
   "source": [
    "col_name = 'COLUMN NAME OF ONE PREDICTOR'\n",
    "\n",
    "f = plt.figure(figsize=(12,6))\n",
    "plt.scatter(X_train[col_name], y_train, color = \"red\")\n",
    "plt.scatter(X_train[col_name], model.predict(X_train), color = \"green\")\n",
    "\n",
    "plt.legend(['True Training','Predicted Training'])\n",
    "plt.xlabel(col_name)\n",
    "plt.ylabel('NAME OF THE PREDICTOR')\n",
    "plt.title(\"Model Behavior On Training Set\")"
   ]
  },
  {
   "cell_type": "code",
   "execution_count": null,
   "metadata": {},
   "outputs": [],
   "source": [
    "col_name = 'COLUMN NAME OF ONE PREDICTOR\"\n",
    "\n",
    "f = plt.figure(figsize=(12,6))\n",
    "plt.scatter(X_test[col_name], y_test, color = \"blue\")\n",
    "plt.scatter(X_test[col_name], model.predict(X_test), color = \"black\")\n",
    "\n",
    "plt.legend(['True testing','Predicted testing'])\n",
    "plt.xlabel(col_name)\n",
    "plt.ylabel('NAME OF THE PREDICTOR')\n",
    "plt.title(\"Model Behavior on Testing Set\")"
   ]
  },
  {
   "cell_type": "markdown",
   "metadata": {},
   "source": [
    "<h2> Summary </h2>"
   ]
  },
  {
   "cell_type": "markdown",
   "metadata": {},
   "source": [
    "**<WRITE A PARAGRAPH SUMMARIZING YOUR WORK, FINDINGS, AND THE PERFORMANCE OF YOUR MODEL\\>**"
   ]
  }
 ],
 "metadata": {
  "kernelspec": {
   "display_name": "Python 3 (ipykernel)",
   "language": "python",
   "name": "python3"
  },
  "language_info": {
   "codemirror_mode": {
    "name": "ipython",
    "version": 3
   },
   "file_extension": ".py",
   "mimetype": "text/x-python",
   "name": "python",
   "nbconvert_exporter": "python",
   "pygments_lexer": "ipython3",
   "version": "3.10.12"
  },
  "vscode": {
   "interpreter": {
    "hash": "6cf8df3ff69f85f626faf55c10df6fe2cb9d1236b4dc73844ee4dc01369c2c99"
   }
  }
 },
 "nbformat": 4,
 "nbformat_minor": 4
}
